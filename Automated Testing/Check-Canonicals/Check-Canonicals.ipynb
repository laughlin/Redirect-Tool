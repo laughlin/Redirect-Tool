{
 "cells": [
  {
   "cell_type": "markdown",
   "metadata": {},
   "source": [
    "# What it is\n",
    "\n",
    "A script that takes an excel xlsx file containing the url to check and canoncial url pairings that a user wants to check. The tool outputs whether the canonical has been set at all, incorrectly, or correctly."
   ]
  },
  {
   "cell_type": "code",
   "execution_count": 1,
   "metadata": {
    "collapsed": true
   },
   "outputs": [],
   "source": [
    "# User input data\n",
    "# Currently the fields are set to be \n",
    "\n",
    "CANONICALS_WORKBOOK = 'Example.xlsx'\n",
    "CANONICALS_WORKBOOK_SHEET = 'CanonicalsSheet'\n"
   ]
  },
  {
   "cell_type": "code",
   "execution_count": 2,
   "metadata": {
    "collapsed": false
   },
   "outputs": [],
   "source": [
    "# Imports and constants\n",
    "\n",
    "import urllib.request as request\n",
    "import pandas as pd\n",
    "import re\n",
    "import xlrd\n",
    "from xlutils.copy import copy\n",
    "from datetime import datetime\n",
    "import requests\n",
    "import urllib.request\n",
    "import urllib\n",
    "import pandas as pd\n",
    "from bs4 import BeautifulSoup\n",
    "\n",
    "import matplotlib\n",
    "CANONICALS_INPUT_FOLDER = 'Inputs/'\n",
    "CANONICALS_OUTPUT_FOLDER = 'Results/'\n",
    "\n",
    "CANONICALS_INPUT_WORKBOOK_PATH = CANONICALS_INPUT_FOLDER + CANONICALS_WORKBOOK\n",
    "\n",
    "to_check = xlrd.open_workbook(CANONICALS_INPUT_WORKBOOK_PATH)\n",
    "to_check_sheet = to_check.sheet_by_name(CANONICALS_WORKBOOK_SHEET)\n",
    "\n",
    "check_wb = copy(to_check) \n",
    "check_sheet = check_wb.get_sheet(CANONICALS_WORKBOOK_SHEET)\n",
    "\n",
    "NO_CANONICAL_SET_STRING = \"No canonical set\""
   ]
  },
  {
   "cell_type": "code",
   "execution_count": 65,
   "metadata": {
    "collapsed": true
   },
   "outputs": [],
   "source": [
    "# Methods to parse data in file\n",
    "\n",
    "def return_canonical(url):\n",
    "    f = urllib.request.urlopen(url)\n",
    "    soup = BeautifulSoup(f.read(), 'html.parser')\n",
    "\n",
    "    list_of_canonical = []\n",
    "    #parse this by only selecting the image with the web url in the name\n",
    "    for link in soup.findAll('link'):\n",
    "        if link.get(\"rel\")[0] == \"canonical\":\n",
    "            list_of_canonical.append(link.get('href'))\n",
    "\n",
    "    if len(list_of_canonical) == 1:\n",
    "        return(list_of_canonical[0])\n",
    "    elif len(list_of_canonical) == 0:\n",
    "        return NO_CANONICAL_SET_STRING\n",
    "\n",
    "def add_https_if_none(url):\n",
    "    if url.startswith(\"www\"):\n",
    "        return \"https://\" + url\n",
    "    else: return url"
   ]
  },
  {
   "cell_type": "code",
   "execution_count": 61,
   "metadata": {
    "collapsed": false
   },
   "outputs": [
    {
     "name": "stdout",
     "output_type": "stream",
     "text": [
      "added\n"
     ]
    },
    {
     "data": {
      "text/plain": [
       "True"
      ]
     },
     "execution_count": 61,
     "metadata": {},
     "output_type": "execute_result"
    }
   ],
   "source": [
    "# Testing\n",
    "def test_return_canonical(url):\n",
    "    result = return_canonical(url)\n",
    "    if result == \"http://www.masterlock.com/business-use/product/A1266NBLK\":\n",
    "        return True\n",
    "    else:\n",
    "        print(\"Error when parsing\")\n",
    "        return result\n",
    "\n",
    "test_return_canonical(\"https://www.masterlock.com/business-use/product/A1266NBLK\")   "
   ]
  },
  {
   "cell_type": "code",
   "execution_count": 68,
   "metadata": {
    "collapsed": false,
    "scrolled": true
   },
   "outputs": [
    {
     "name": "stdout",
     "output_type": "stream",
     "text": [
      "                                         result status code  \\\n",
      "1                              No canonical set         200   \n",
      "2                              No canonical set         200   \n",
      "3   Expected and actual canonicals do not match         200   \n",
      "4   Expected and actual canonicals do not match         200   \n",
      "5   Expected and actual canonicals do not match         200   \n",
      "6   Expected and actual canonicals do not match         200   \n",
      "7   Expected and actual canonicals do not match         200   \n",
      "8   Expected and actual canonicals do not match         200   \n",
      "9   Expected and actual canonicals do not match         200   \n",
      "10  Expected and actual canonicals do not match         200   \n",
      "11  Expected and actual canonicals do not match         200   \n",
      "12  Expected and actual canonicals do not match         200   \n",
      "13  Expected and actual canonicals do not match         200   \n",
      "14  Expected and actual canonicals do not match         200   \n",
      "15  Expected and actual canonicals do not match         200   \n",
      "16  Expected and actual canonicals do not match         200   \n",
      "17  Expected and actual canonicals do not match         200   \n",
      "18  Expected and actual canonicals do not match         200   \n",
      "19  Expected and actual canonicals do not match         200   \n",
      "20  Expected and actual canonicals do not match         200   \n",
      "21  Expected and actual canonicals do not match         200   \n",
      "22  Expected and actual canonicals do not match         200   \n",
      "23  Expected and actual canonicals do not match         200   \n",
      "24  Expected and actual canonicals do not match         200   \n",
      "\n",
      "   canonical status code                                                url  \\\n",
      "1                    200  https://www.masterlock.com/business-use/produc...   \n",
      "2                    200  https://www.masterlock.com/business-use/produc...   \n",
      "3                    200  https://www.masterlock.com/business-use/produc...   \n",
      "4                    200  https://www.masterlock.com/business-use/produc...   \n",
      "5                    200  https://www.masterlock.com/business-use/produc...   \n",
      "6                    200  https://www.masterlock.com/business-use/produc...   \n",
      "7                    200  https://www.masterlock.com/business-use/produc...   \n",
      "8                    200  https://www.masterlock.com/business-use/produc...   \n",
      "9                    200  https://www.masterlock.com/business-use/produc...   \n",
      "10                   200  https://www.masterlock.com/business-use/produc...   \n",
      "11                   200  https://www.masterlock.com/business-use/produc...   \n",
      "12                   200  https://www.masterlock.com/business-use/produc...   \n",
      "13                   200  https://www.masterlock.com/personal-use/produc...   \n",
      "14                   200  https://www.masterlock.com/personal-use/produc...   \n",
      "15                   200  https://www.masterlock.com/business-use/produc...   \n",
      "16                   200  https://www.masterlock.com/business-use/produc...   \n",
      "17                   200  https://www.masterlock.com/business-use/produc...   \n",
      "18                   200  https://www.masterlock.com/business-use/produc...   \n",
      "19                   200  https://www.masterlock.com/business-use/produc...   \n",
      "20                   200  https://www.masterlock.com/business-use/produc...   \n",
      "21                   200  https://www.masterlock.com/business-use/produc...   \n",
      "22                   200  https://www.masterlock.com/business-use/produc...   \n",
      "23                   200  https://www.masterlock.com/business-use/produc...   \n",
      "24                   200  https://www.masterlock.com/business-use/produc...   \n",
      "\n",
      "                                   expected canonical  \\\n",
      "1   https://www.masterlock.com/business-use/produc...   \n",
      "2   https://www.masterlock.com/business-use/produc...   \n",
      "3   https://www.masterlock.com/business-use/produc...   \n",
      "4   https://www.masterlock.com/business-use/produc...   \n",
      "5   https://www.masterlock.com/business-use/produc...   \n",
      "6   https://www.masterlock.com/business-use/produc...   \n",
      "7   https://www.masterlock.com/business-use/produc...   \n",
      "8   https://www.masterlock.com/business-use/produc...   \n",
      "9   https://www.masterlock.com/business-use/produc...   \n",
      "10  https://www.masterlock.com/business-use/produc...   \n",
      "11  https://www.masterlock.com/business-use/produc...   \n",
      "12  https://www.masterlock.com/business-use/produc...   \n",
      "13  https://www.masterlock.com/personal-use/produc...   \n",
      "14  https://www.masterlock.com/personal-use/produc...   \n",
      "15  https://www.masterlock.com/business-use/produc...   \n",
      "16  https://www.masterlock.com/business-use/produc...   \n",
      "17  https://www.masterlock.com/business-use/produc...   \n",
      "18  https://www.masterlock.com/business-use/produc...   \n",
      "19  https://www.masterlock.com/business-use/produc...   \n",
      "20  https://www.masterlock.com/business-use/produc...   \n",
      "21  https://www.masterlock.com/business-use/produc...   \n",
      "22  https://www.masterlock.com/business-use/produc...   \n",
      "23  https://www.masterlock.com/business-use/produc...   \n",
      "24  https://www.masterlock.com/business-use/produc...   \n",
      "\n",
      "                                     actual canonical  \n",
      "1                                    No canonical set  \n",
      "2                                    No canonical set  \n",
      "3   http://www.masterlock.com/business-use/product...  \n",
      "4   http://www.masterlock.com/business-use/product...  \n",
      "5   http://www.masterlock.com/business-use/product...  \n",
      "6   http://www.masterlock.com/business-use/product...  \n",
      "7   http://www.masterlock.com/business-use/product...  \n",
      "8   http://www.masterlock.com/business-use/product...  \n",
      "9   http://www.masterlock.com/business-use/product...  \n",
      "10  http://www.masterlock.com/business-use/product...  \n",
      "11  http://www.masterlock.com/business-use/product...  \n",
      "12  http://www.masterlock.com/business-use/product...  \n",
      "13  http://www.masterlock.com/personal-use/product...  \n",
      "14  http://www.masterlock.com/personal-use/product...  \n",
      "15  http://www.masterlock.com/business-use/product...  \n",
      "16  http://www.masterlock.com/business-use/product...  \n",
      "17  http://www.masterlock.com/business-use/product...  \n",
      "18  http://www.masterlock.com/business-use/product...  \n",
      "19  http://www.masterlock.com/business-use/product...  \n",
      "20  http://www.masterlock.com/business-use/product...  \n",
      "21  http://www.masterlock.com/business-use/product...  \n",
      "22  http://www.masterlock.com/business-use/product...  \n",
      "23  http://www.masterlock.com/business-use/product...  \n",
      "24  http://www.masterlock.com/business-use/product...  \n"
     ]
    }
   ],
   "source": [
    "# Checking the canonicals\n",
    "\n",
    "# These are what the headers of the outputted xlsx will be, along with the output printed after running this cell.\n",
    "cols = [\"result\", \"status code\", \"canonical status code\", \"url\", \"expected canonical\", \"actual canonical\"]\n",
    "\n",
    "# This will be the ouputted table that will hold all of the results.\n",
    "list_of_results = pd.DataFrame(columns=cols)\n",
    "\n",
    "# For every row in the input data, check to see that the canonical 1) exists 2) is what was desired\n",
    "for i in range(1, len(check_sheet.rows)):\n",
    "    \n",
    "    url_containing_canonical = add_https_if_none(to_check_sheet.cell(i, 0).value.strip())\n",
    "    expected_canonical = add_https_if_none(to_check_sheet.cell(i, 1).value.strip())\n",
    "    \n",
    "    req = requests.get(url_containing_canonical)\n",
    "    \n",
    "    # This status code is reflective of the last code outputted and will not reflect redirects\n",
    "    status_code = req.status_code\n",
    "    canonical_status_code = requests.get(expected_canonical).status_code\n",
    "    if status_code in [200, 301]:\n",
    "        actual_canonical = return_canonical(url_containing_canonical)\n",
    "\n",
    "        if actual_canonical == NO_CANONICAL_SET_STRING:\n",
    "            result = actual_canonical\n",
    "        elif actual_canonical == expected_canonical:\n",
    "            if canonical_status_code == 200:\n",
    "                result = \"OK\"\n",
    "            elif canonical_status_code == 301:\n",
    "                result = \"OK, but warning, canonical is a redirect.\"\n",
    "            else:\n",
    "                result = \"Canonical is bad link, but is equal to expected. Consider changing canonical.\"\n",
    "        else:\n",
    "            result = 'Expected and actual canonicals do not match'\n",
    "    else: \n",
    "        result = \"Error when accessing url containing canonical. See status code.\"\n",
    "\n",
    "    \n",
    "    # Append the result to a dataframe for output later\n",
    "    list_of_results.loc[i] = [result, status_code, canonical_status_code, \n",
    "                              url_containing_canonical, expected_canonical, actual_canonical]\n",
    "\n",
    "print(list_of_results)"
   ]
  },
  {
   "cell_type": "code",
   "execution_count": 69,
   "metadata": {
    "collapsed": true
   },
   "outputs": [],
   "source": [
    "# Run to output the dataframe as an xlsx file in the 'Results' folder\n",
    "\n",
    "OUTPUT_FILE = CANONICALS_OUTPUT_FOLDER + 'canonical-results_'+ datetime.now().strftime(\"%Y-%m-%d_%H-%M\") + '.xlsx'\n",
    "\n",
    "writer = pd.ExcelWriter(OUTPUT_FILE, engine='xlsxwriter',)\n",
    "list_of_results.to_excel(writer, sheet_name='Canonicals', index=False)\n",
    "writer.save()"
   ]
  }
 ],
 "metadata": {
  "kernelspec": {
   "display_name": "Python 3",
   "language": "python",
   "name": "python3"
  },
  "language_info": {
   "codemirror_mode": {
    "name": "ipython",
    "version": 3
   },
   "file_extension": ".py",
   "mimetype": "text/x-python",
   "name": "python",
   "nbconvert_exporter": "python",
   "pygments_lexer": "ipython3",
   "version": "3.6.0"
  }
 },
 "nbformat": 4,
 "nbformat_minor": 2
}
